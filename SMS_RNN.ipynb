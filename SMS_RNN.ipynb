{
  "cells": [
    {
      "cell_type": "code",
      "execution_count": null,
      "metadata": {
        "colab": {
          "base_uri": "https://localhost:8080/"
        },
        "id": "HgfNOUaPa9z8",
        "outputId": "a0c84941-5676-4f37-f091-c1083c4aba49"
      },
      "outputs": [
        {
          "name": "stdout",
          "output_type": "stream",
          "text": [
            "Mounted at /content/drive\n"
          ]
        }
      ],
      "source": [
        "import torch\n",
        "import torch.nn as nn\n",
        "import torch.nn.functional as F\n",
        "import torch.optim as optim\n",
        "import numpy as np\n",
        "import os\n",
        "import os.path\n",
        "from google.colab import drive\n",
        "drive.mount('/content/drive')"
      ]
    },
    {
      "cell_type": "code",
      "execution_count": null,
      "metadata": {
        "id": "EqNdqkPYOaJL"
      },
      "outputs": [],
      "source": [
        "os.listdir('/content/drive/MyDrive')"
      ]
    },
    {
      "cell_type": "markdown",
      "metadata": {
        "id": "M0jLI9LBa90C"
      },
      "source": [
        "We will be using the \"SMS Spam Collection Data Set\" available at http://archive.ics.uci.edu/ml/datasets/SMS+Spam+Collection"
      ]
    },
    {
      "cell_type": "code",
      "execution_count": null,
      "metadata": {
        "colab": {
          "base_uri": "https://localhost:8080/"
        },
        "id": "I_IfXHeTa90F",
        "outputId": "a9d8d34d-6ef2-47d3-cc02-9e51ab6fc6b7"
      },
      "outputs": [
        {
          "name": "stdout",
          "output_type": "stream",
          "text": [
            "ham\tGo until jurong point, crazy.. Available only in bugis n great world la e buffet... Cine there got amore wat...\n",
            "\n",
            "spam\tFree entry in 2 a wkly comp to win FA Cup final tkts 21st May 2005. Text FA to 87121 to receive entry question(std txt rate)T&C's apply 08452810075over18's\n",
            "\n"
          ]
        }
      ],
      "source": [
        "for line in open('/content/drive//MyDrive/SMSSpamCollection'):\n",
        "  if line[0:3]=='ham':\n",
        "    print(line)\n",
        "    break\n",
        "for line in open('/content/drive//MyDrive/SMSSpamCollection'):\n",
        "  if line[0:4]=='spam':\n",
        "    print(line)\n",
        "    break"
      ]
    },
    {
      "cell_type": "markdown",
      "metadata": {
        "id": "s9c3JjR0zxiz"
      },
      "source": [
        "The label of a spam image is 'spam'. The label of a non-spam image is 'ham'. Later, spams will be labeled as 1 and non-spams will be 0."
      ]
    },
    {
      "cell_type": "code",
      "execution_count": null,
      "metadata": {
        "colab": {
          "base_uri": "https://localhost:8080/"
        },
        "id": "LgsqyemVa90e",
        "outputId": "c203d3ae-c855-449c-aacc-a3b9e63bebef"
      },
      "outputs": [
        {
          "name": "stdout",
          "output_type": "stream",
          "text": [
            "5574\n",
            "5574\n",
            "4827\n"
          ]
        },
        {
          "data": {
            "text/plain": [
              "747"
            ]
          },
          "execution_count": 47,
          "metadata": {},
          "output_type": "execute_result"
        }
      ],
      "source": [
        "cnt=0\n",
        "spcnt=0\n",
        "hcnt=0\n",
        "f=open('/content/drive//MyDrive/SMSSpamCollection','r')\n",
        "sc=f.readlines()\n",
        "print(len(sc))\n",
        "for line in sc:\n",
        "    cnt+=1\n",
        "    if line[0:3]=='ham':\n",
        "      hcnt+=1\n",
        "    elif line[0:4]=='spam':\n",
        "      spcnt+=1\n",
        "print(cnt)\n",
        "print(hcnt)\n",
        "spcnt"
      ]
    },
    {
      "cell_type": "markdown",
      "metadata": {
        "id": "WuYM2-8oVV2W"
      },
      "source": [
        "There are 4827 non-spam messages and 747 spam messages."
      ]
    },
    {
      "cell_type": "code",
      "execution_count": null,
      "metadata": {
        "id": "P_Y6Puz9a90l"
      },
      "outputs": [],
      "source": [
        "import torchtext\n",
        "from torchtext.legacy import data\n",
        "text_field = data.Field(sequential=True,      # text sequence\n",
        "                                  tokenize=lambda x: x, # because are building a character-RNN\n",
        "                                  include_lengths=True, # to track the length of sequences, for batching\n",
        "                                  batch_first=True,\n",
        "                                  use_vocab=True)       # to turn each character into an integer index\n",
        "label_field = data.Field(sequential=False,    # not a sequence\n",
        "                                   use_vocab=False,     # don't need to track vocabulary\n",
        "                                   is_target=True,      \n",
        "                                   batch_first=True,\n",
        "                                   preprocessing=lambda x: int(x == 'spam')) # convert text to 0 and 1\n",
        "\n",
        "fields = [('label', label_field), ('sms', text_field)]\n",
        "dataset = data.TabularDataset(\"/content/drive//MyDrive/SMSSpamCollection\", # name of the file\n",
        "                                        \"tsv\",               # fields are separated by a tab\n",
        "                                        fields)\n",
        "\n",
        "# dataset[0].sms\n",
        "# dataset[0].label\n",
        "# train, valid, test = ..."
      ]
    },
    {
      "cell_type": "code",
      "execution_count": null,
      "metadata": {
        "colab": {
          "base_uri": "https://localhost:8080/",
          "height": 69
        },
        "id": "b1yLyyjBfMvH",
        "outputId": "f7370d30-3b5f-47e3-978c-b28891011a4b"
      },
      "outputs": [
        {
          "data": {
            "application/vnd.google.colaboratory.intrinsic+json": {
              "type": "string"
            },
            "text/plain": [
              "'Keep ur problems in ur heart, b\\'coz nobody will fight for u. Only u &amp; u have to fight for ur self &amp; win the battle. -VIVEKANAND- G 9t.. SD..\\nham\\tYeah, give me a call if you\\'ve got a minute\\nham\\tHI BABE UAWAKE?FEELLIKW SHIT.JUSTFOUND OUT VIA ALETTER THATMUM GOTMARRIED 4thNOV.BEHIND OURBACKS \\x96 FUCKINNICE!SELFISH,DEVIOUSBITCH.ANYWAY,I\\x92L CALL U\"'"
            ]
          },
          "execution_count": 49,
          "metadata": {},
          "output_type": "execute_result"
        }
      ],
      "source": [
        "dataset[5081].sms"
      ]
    },
    {
      "cell_type": "code",
      "execution_count": null,
      "metadata": {
        "colab": {
          "base_uri": "https://localhost:8080/"
        },
        "id": "LmIx2LAKBIYt",
        "outputId": "cf28cf6d-f5d3-4302-e9c7-bb24519caeec"
      },
      "outputs": [
        {
          "data": {
            "text/plain": [
              "1114"
            ]
          },
          "execution_count": 50,
          "metadata": {},
          "output_type": "execute_result"
        }
      ],
      "source": [
        "train,val,test=dataset.split(split_ratio=[0.6,0.2,0.2])\n",
        "len(test)"
      ]
    },
    {
      "cell_type": "markdown",
      "metadata": {
        "id": "v6nP0Ks_a90o"
      },
      "source": [
        "We will duplicate spam messages in the training set,\n",
        "so that the training set is roughly balanced."
      ]
    },
    {
      "cell_type": "code",
      "execution_count": null,
      "metadata": {
        "id": "FWvx9_rka90p"
      },
      "outputs": [],
      "source": [
        "# save the original training examples\n",
        "old_train_examples = train.examples\n",
        "# get all the spam messages in `train`\n",
        "train_spam = []\n",
        "for item in train.examples:\n",
        "    if item.label == 1:\n",
        "        train_spam.append(item)\n",
        "# duplicate each spam message 6 more times\n",
        "train.examples = old_train_examples + train_spam * 6"
      ]
    },
    {
      "cell_type": "markdown",
      "metadata": {
        "id": "ZgbBFUrZ10oN"
      },
      "source": [
        "If differently labeled samples are not balanced in number, the model will get trained more on one label and less on another. The result is the model will bias to the label it had seen more. In this case, if we do not duplicate spam messages, it will tend to predict spams as non-spams."
      ]
    },
    {
      "cell_type": "markdown",
      "metadata": {
        "id": "wkLegr-eINcI"
      },
      "source": [
        "text_field.vocab.stoi represents the numerical integer identifier of each token. text_field.vocab.itos gives the list of tokens ranked by numerical identifier."
      ]
    },
    {
      "cell_type": "code",
      "execution_count": null,
      "metadata": {
        "id": "8CQM8flKa90s"
      },
      "outputs": [],
      "source": [
        "text_field.build_vocab(train)\n",
        "#text_field.vocab.stoi\n",
        "#text_field.vocab.itos"
      ]
    },
    {
      "cell_type": "code",
      "execution_count": null,
      "metadata": {
        "colab": {
          "base_uri": "https://localhost:8080/"
        },
        "id": "pLcsuK571CIp",
        "outputId": "db791e12-b0c0-45ba-e003-3ce9317eee56"
      },
      "outputs": [
        {
          "data": {
            "text/plain": [
              "['<unk>',\n",
              " '<pad>',\n",
              " ' ',\n",
              " 'e',\n",
              " 'o',\n",
              " 't',\n",
              " 'a',\n",
              " 'n',\n",
              " 'r',\n",
              " 'i',\n",
              " 's',\n",
              " 'l',\n",
              " 'u',\n",
              " 'h',\n",
              " '0',\n",
              " 'd',\n",
              " '.',\n",
              " 'm',\n",
              " 'c',\n",
              " 'y',\n",
              " 'w',\n",
              " 'p',\n",
              " 'g',\n",
              " 'f',\n",
              " '1',\n",
              " 'b',\n",
              " '2',\n",
              " 'T',\n",
              " '8',\n",
              " 'k',\n",
              " 'E',\n",
              " 'v',\n",
              " '5',\n",
              " 'S',\n",
              " 'C',\n",
              " 'O',\n",
              " 'I',\n",
              " '7',\n",
              " 'N',\n",
              " '4',\n",
              " 'x',\n",
              " 'A',\n",
              " 'R',\n",
              " '3',\n",
              " ',',\n",
              " '6',\n",
              " '!',\n",
              " 'P',\n",
              " 'M',\n",
              " '9',\n",
              " 'L',\n",
              " 'U',\n",
              " 'W',\n",
              " 'H',\n",
              " 'D',\n",
              " 'F',\n",
              " 'B',\n",
              " '/',\n",
              " 'G',\n",
              " 'Y',\n",
              " \"'\",\n",
              " '?',\n",
              " '£',\n",
              " '-',\n",
              " '&',\n",
              " ':',\n",
              " 'X',\n",
              " 'z',\n",
              " 'V',\n",
              " 'j',\n",
              " 'K',\n",
              " '*',\n",
              " 'J',\n",
              " '+',\n",
              " ';',\n",
              " ')',\n",
              " 'Q',\n",
              " 'q',\n",
              " '\"',\n",
              " '(',\n",
              " '#',\n",
              " '>',\n",
              " '=',\n",
              " '@',\n",
              " 'ü',\n",
              " 'Z',\n",
              " 'Ü',\n",
              " '$',\n",
              " '<',\n",
              " '_',\n",
              " '|',\n",
              " '\\x92',\n",
              " '[',\n",
              " ']',\n",
              " '%',\n",
              " '‘',\n",
              " '’',\n",
              " '\\x93',\n",
              " 'ú',\n",
              " '…',\n",
              " '~',\n",
              " '\\x94',\n",
              " '–',\n",
              " '\\\\',\n",
              " '^',\n",
              " 'è',\n",
              " 'ì',\n",
              " '—',\n",
              " '┾',\n",
              " '〨',\n",
              " '鈥']"
            ]
          },
          "execution_count": 53,
          "metadata": {},
          "output_type": "execute_result"
        }
      ],
      "source": [
        "text_field.vocab.itos"
      ]
    },
    {
      "cell_type": "code",
      "execution_count": null,
      "metadata": {
        "id": "xxMhNB6EuzyY"
      },
      "outputs": [],
      "source": [
        "stois=list(text_field.vocab.stoi.keys())\n",
        "itoss=text_field.vocab.itos\n",
        "for i in range(len(stois)):\n",
        "  if not stois[i] in itoss:\n",
        "    print(i,' ',stois[i])"
      ]
    },
    {
      "cell_type": "markdown",
      "metadata": {
        "id": "laI8A8JPNtL0"
      },
      "source": [
        "`<unk>` is used for representing the unknown tokens. `<pad>` represents the special tokens and paddings attached to shorter samples to make every sample the same length."
      ]
    },
    {
      "cell_type": "code",
      "execution_count": null,
      "metadata": {
        "id": "V8N8qLWOa90y"
      },
      "outputs": [],
      "source": [
        "train_iter = data.BucketIterator(train,\n",
        "                                           batch_size=32,\n",
        "                                           sort_key=lambda x: len(x.sms), # to minimize padding\n",
        "                                           sort_within_batch=True,        # sort within each batch\n",
        "                                           repeat=False)                  # repeat the iterator for many epochs\n",
        "val_iter = data.BucketIterator(val,\n",
        "                                           batch_size=32,\n",
        "                                           sort_key=lambda x: len(x.sms), # to minimize padding\n",
        "                                           sort_within_batch=True,        # sort within each batch\n",
        "                                           repeat=False)                  # repeat the iterator for many epochs\n",
        "test_iter = data.BucketIterator(test,\n",
        "                                           batch_size=len(test),\n",
        "                                           sort_key=lambda x: len(x.sms), # to minimize padding\n",
        "                                           sort_within_batch=True,        # sort within each batch\n",
        "                                           repeat=False)                  # repeat the iterator for many epochs"
      ]
    },
    {
      "cell_type": "code",
      "execution_count": null,
      "metadata": {
        "colab": {
          "base_uri": "https://localhost:8080/"
        },
        "id": "Qwz-rOaha902",
        "outputId": "4983e839-ab25-470b-b5f0-2fc2b023bb25"
      },
      "outputs": [
        {
          "name": "stdout",
          "output_type": "stream",
          "text": [
            "inlens: [156, 157, 133, 160, 53, 162, 35, 158, 154, 156]\n",
            "numpads: [0, 0, 25, 0, 43, 8, 9, 0, 31, 11]\n"
          ]
        }
      ],
      "source": [
        "bcnt=0\n",
        "inlens=[]\n",
        "numpads=[]\n",
        "for batch in train_iter:\n",
        "    #print('bcnt:',bcnt)\n",
        "    #print('batch:',batch)\n",
        "    if 1:#bcnt==0:\n",
        "      scnt=0\n",
        "      for sample in batch:\n",
        "        #print('sample',scnt,':',(sample))\n",
        "        if scnt==0:\n",
        "          inlens.append(sample[0].shape[1])\n",
        "          num_non0=torch.count_nonzero(sample[0]-1)\n",
        "          mynumpad=sample[0].shape[0]*sample[0].shape[1]-num_non0\n",
        "          #print('num nonzeros:',num_non0)\n",
        "          #print('num zeros:',mynumpad)\n",
        "          numpads.append(int(mynumpad.detach().numpy()))\n",
        "        scnt+=1\n",
        "    #print('len(batch):',len(batch))\n",
        "    #print('batch.sms：',batch.sms)\n",
        "    #print('batch.label:',batch.label)\n",
        "    bcnt+=1\n",
        "    if bcnt==10:\n",
        "      break\n",
        "print('inlens:',inlens)\n",
        "print('numpads:',numpads)"
      ]
    },
    {
      "cell_type": "markdown",
      "metadata": {
        "id": "scv3Ux8e4VU7"
      },
      "source": [
        "The maximum length of the input sequence in each of the 10 batchs is [50, 158, 71, 22, 151, 89, 139, 24, 24, 45]. The number of `<pad>` used in each of the 10 batchs is [20, 25, 13, 0, 4, 31, 18, 0, 32, 13]. As each batch differ greatly in maximum sample length, putting similar length samples in one batch have saved a lot of paddings."
      ]
    },
    {
      "cell_type": "markdown",
      "metadata": {
        "id": "y7HnqP6_a904"
      },
      "source": [
        "##Model Building"
      ]
    },
    {
      "cell_type": "code",
      "execution_count": null,
      "metadata": {
        "colab": {
          "base_uri": "https://localhost:8080/"
        },
        "id": "jHl1p_Wwa905",
        "outputId": "683ed9a6-1a7e-4714-a87b-5634d4a22a8f"
      },
      "outputs": [
        {
          "name": "stdout",
          "output_type": "stream",
          "text": [
            "tensor([1., 0., 0., 0., 0., 0., 0., 0., 0., 0.])\n",
            "tensor([0., 1., 0., 0., 0., 0., 0., 0., 0., 0.])\n",
            "tensor([[[0., 1., 0., 0., 0., 0., 0., 0., 0., 0.],\n",
            "         [0., 0., 1., 0., 0., 0., 0., 0., 0., 0.]],\n",
            "\n",
            "        [[0., 0., 0., 1., 0., 0., 0., 0., 0., 0.],\n",
            "         [0., 0., 0., 0., 1., 0., 0., 0., 0., 0.]]])\n"
          ]
        }
      ],
      "source": [
        "ident = torch.eye(10)\n",
        "print(ident[0]) # one-hot vector\n",
        "print(ident[1]) # one-hot vector\n",
        "x = torch.tensor([[1, 2], [3, 4]])\n",
        "print(ident[x]) # one-hot vectors"
      ]
    },
    {
      "cell_type": "code",
      "execution_count": null,
      "metadata": {
        "id": "lFjxmzj_xun9"
      },
      "outputs": [],
      "source": [
        "maxs=[]\n",
        "rsizes=[]\n",
        "def idxiter21hot(train_iter,identmax=len(text_field.vocab.itos)):\n",
        "  global maxs\n",
        "  maxs=[]\n",
        "  train_1h=[]\n",
        "  ident = torch.eye(identmax)\n",
        "  for batch in train_iter:\n",
        "    sample_1h=[]\n",
        "    scnt=0\n",
        "    for sample in batch:\n",
        "      if scnt==0:\n",
        "        maxs.append(torch.max(sample[0]))\n",
        "        sample_1h.append(ident[sample[0]])\n",
        "      elif scnt==1:\n",
        "        sample_1h.append(sample)\n",
        "      scnt+=1\n",
        "    train_1h.append(sample_1h)\n",
        "  #print (max(maxs))\n",
        "  return train_1h"
      ]
    },
    {
      "cell_type": "code",
      "execution_count": null,
      "metadata": {
        "colab": {
          "base_uri": "https://localhost:8080/"
        },
        "id": "4LTQ7zFka909",
        "outputId": "71c0f745-e188-4f70-884a-4e4a51e4e977"
      },
      "outputs": [
        {
          "name": "stdout",
          "output_type": "stream",
          "text": [
            "lengths: 190 35 1\n"
          ]
        }
      ],
      "source": [
        "train_1h=idxiter21hot(train_iter)\n",
        "val_1h=idxiter21hot(val_iter)\n",
        "test_1h=idxiter21hot(test_iter)\n",
        "print('lengths:',len(train_iter),len(val_iter),len(test_iter))\n"
      ]
    },
    {
      "cell_type": "code",
      "execution_count": null,
      "metadata": {
        "id": "9agUSIPFijYU"
      },
      "outputs": [],
      "source": [
        "class RNN(nn.Module):\n",
        "  def __init__(self,input_size, hidden_size, num_classes,rout='max',activation='tanh'):\n",
        "    super(RNN,self).__init__()\n",
        "    self.rout=rout\n",
        "    self.activation=activation\n",
        "    self.hidden_size = hidden_size\n",
        "    self.rnn=nn.RNN(input_size,hidden_size,batch_first=True,nonlinearity=activation)\n",
        "    fcsizein=hidden_size\n",
        "    if rout=='cat':\n",
        "      fcsizein=hidden_size*2\n",
        "    self.fc=nn.Linear(fcsizein,num_classes)\n",
        "        \n",
        "  def forward(self,x):\n",
        "    global rsizes\n",
        "    rsizes=[]\n",
        "    rsizes.append(x.shape)\n",
        "    h0 = torch.zeros(1, x.size(0), self.hidden_size)\n",
        "    rnd,_=self.rnn(x,h0)\n",
        "    rsizes.append(rnd.shape)\n",
        "    fcd=None;\n",
        "    if self.rout=='last':\n",
        "      fcd=self.fc(rnd[:, -1, :])\n",
        "    if self.rout=='max':\n",
        "      fcd=self.fc(torch.max(rnd, dim=1)[0])\n",
        "    elif self.rout=='cat':\n",
        "      fcd=self.fc(torch.cat([torch.max(rnd, dim=1)[0], \n",
        "                              torch.mean(rnd, dim=1)], dim=1))\n",
        "    #print (torch.max(rnd, dim=1)[0].shape)\n",
        "    rsizes.append(fcd.shape)\n",
        "    return fcd\n"
      ]
    },
    {
      "cell_type": "code",
      "execution_count": null,
      "metadata": {
        "colab": {
          "base_uri": "https://localhost:8080/"
        },
        "id": "AxvGZdOVrpu7",
        "outputId": "e23a2a86-2ac4-4908-ec57-a96687617cc0"
      },
      "outputs": [
        {
          "data": {
            "text/plain": [
              "tensor([[ 0.0743, -0.5968],\n",
              "        [ 0.0960, -0.5886],\n",
              "        [ 0.1116, -0.6334]], grad_fn=<AddmmBackward0>)"
            ]
          },
          "execution_count": 61,
          "metadata": {},
          "output_type": "execute_result"
        }
      ],
      "source": [
        "rnn0=RNN(114,114,2)\n",
        "rnn0(torch.rand([3,54,114]))\n",
        "#torch.rand([2,1,1,1]).squeeze()"
      ]
    },
    {
      "cell_type": "markdown",
      "metadata": {
        "id": "vKIYPl_Ba90_"
      },
      "source": [
        "Training"
      ]
    },
    {
      "cell_type": "code",
      "execution_count": null,
      "metadata": {
        "id": "pvNfhGD6a91A"
      },
      "outputs": [],
      "source": [
        "def get_accuracy(model, data_loader):\n",
        "    \"\"\" Compute the accuracy of the `model` across a dataset `data`\n",
        "    \n",
        "    Example usage:\n",
        "    \n",
        "    >>> model = MyRNN() # to be defined\n",
        "    >>> get_accuracy(model, valid) # the variable `valid` is from above\n",
        "    \"\"\"\n",
        "    correct, total = 0, 0\n",
        "    tp,tn=0,0\n",
        "    for tweets, labels in data_loader:\n",
        "        output = model(tweets)\n",
        "        pred = output.max(1, keepdim=True)[1]\n",
        "        correct += pred.eq(labels.view_as(pred)).sum().item()\n",
        "        total += labels.shape[0]\n",
        "        mytp=torch.count_nonzero(labels)\n",
        "        tp+=mytp\n",
        "        tn+=len(labels)-mytp\n",
        "    print('num of 1 and 0 in labels:',tp,tn)\n",
        "    #print('correct:',correct)\n",
        "    #print('total:',total)\n",
        "    return correct / total"
      ]
    },
    {
      "cell_type": "code",
      "execution_count": null,
      "metadata": {
        "id": "CVtf7CJCa91D"
      },
      "outputs": [],
      "source": [
        "import matplotlib.pyplot as plt\n",
        "def train_rnn_network(model, train, valid, num_epochs=5, learning_rate=1e-5):\n",
        "    criterion = nn.CrossEntropyLoss()\n",
        "    optimizer = torch.optim.Adam(model.parameters(), lr=learning_rate)\n",
        "    losses, train_acc, valid_acc = [], [], []\n",
        "    epochs = []\n",
        "    for epoch in range(num_epochs):\n",
        "        for tweets, labels in train:\n",
        "            optimizer.zero_grad()\n",
        "            pred = model(tweets)\n",
        "            loss = criterion(pred, labels)\n",
        "            loss.backward()\n",
        "            optimizer.step()\n",
        "        losses.append(float(loss))\n",
        "\n",
        "        epochs.append(epoch)\n",
        "        train_acc.append(get_accuracy(model, train))\n",
        "        valid_acc.append(get_accuracy(model, valid))\n",
        "        print(\"Epoch %d; Loss %f; Train Acc %f; Val Acc %f\" % (\n",
        "              epoch+1, loss, train_acc[-1], valid_acc[-1]))\n",
        "        #print('epoch:',epoch)\n",
        "        #print('loss:',loss,'train_acc:',train_acc[-1],'valid_acc:',valid_acc[-1])\n",
        "    # plotting\n",
        "    plt.title(\"Training Curve\")\n",
        "    plt.plot(losses, label=\"Train\")\n",
        "    plt.xlabel(\"Epoch\")\n",
        "    plt.ylabel(\"Loss\")\n",
        "    plt.show()\n",
        "\n",
        "    plt.title(\"Training Curve\")\n",
        "    plt.plot(epochs, train_acc, label=\"Train\")\n",
        "    plt.plot(epochs, valid_acc, label=\"Validation\")\n",
        "    plt.xlabel(\"Epoch\")\n",
        "    plt.ylabel(\"Accuracy\")\n",
        "    plt.legend(loc='best')\n",
        "    plt.show()"
      ]
    },
    {
      "cell_type": "code",
      "execution_count": null,
      "metadata": {
        "colab": {
          "base_uri": "https://localhost:8080/",
          "height": 1000
        },
        "id": "R6XZ2WRO0T07",
        "outputId": "6c79741a-6b33-4425-8cf5-04f9c759856c"
      },
      "outputs": [
        {
          "name": "stdout",
          "output_type": "stream",
          "text": [
            "num of 1 and 0 in labels: tensor(3178) tensor(2889)\n",
            "num of 1 and 0 in labels: tensor(135) tensor(980)\n",
            "Epoch 1; Loss 0.679849; Train Acc 0.479644; Val Acc 0.878027\n",
            "num of 1 and 0 in labels: tensor(3178) tensor(2889)\n",
            "num of 1 and 0 in labels: tensor(135) tensor(980)\n",
            "Epoch 2; Loss 0.685760; Train Acc 0.866656; Val Acc 0.766816\n",
            "num of 1 and 0 in labels: tensor(3178) tensor(2889)\n",
            "num of 1 and 0 in labels: tensor(135) tensor(980)\n",
            "Epoch 3; Loss 0.688447; Train Acc 0.611999; Val Acc 0.269955\n",
            "num of 1 and 0 in labels: tensor(3178) tensor(2889)\n",
            "num of 1 and 0 in labels: tensor(135) tensor(980)\n",
            "Epoch 4; Loss 0.687759; Train Acc 0.561563; Val Acc 0.181166\n",
            "num of 1 and 0 in labels: tensor(3178) tensor(2889)\n",
            "num of 1 and 0 in labels: tensor(135) tensor(980)\n",
            "Epoch 5; Loss 0.683843; Train Acc 0.566837; Val Acc 0.191031\n",
            "num of 1 and 0 in labels: tensor(3178) tensor(2889)\n",
            "num of 1 and 0 in labels: tensor(135) tensor(980)\n",
            "Epoch 6; Loss 0.675407; Train Acc 0.634581; Val Acc 0.314798\n",
            "num of 1 and 0 in labels: tensor(3178) tensor(2889)\n",
            "num of 1 and 0 in labels: tensor(135) tensor(980)\n",
            "Epoch 7; Loss 0.655481; Train Acc 0.881490; Val Acc 0.782063\n",
            "num of 1 and 0 in labels: tensor(3178) tensor(2889)\n",
            "num of 1 and 0 in labels: tensor(135) tensor(980)\n",
            "Epoch 8; Loss 0.565541; Train Acc 0.852151; Val Acc 0.777578\n",
            "num of 1 and 0 in labels: tensor(3178) tensor(2889)\n",
            "num of 1 and 0 in labels: tensor(135) tensor(980)\n",
            "Epoch 9; Loss 0.408070; Train Acc 0.897973; Val Acc 0.896861\n",
            "num of 1 and 0 in labels: tensor(3178) tensor(2889)\n",
            "num of 1 and 0 in labels: tensor(135) tensor(980)\n",
            "Epoch 10; Loss 0.332451; Train Acc 0.894182; Val Acc 0.933632\n",
            "num of 1 and 0 in labels: tensor(3178) tensor(2889)\n",
            "num of 1 and 0 in labels: tensor(135) tensor(980)\n",
            "Epoch 11; Loss 0.290831; Train Acc 0.910994; Val Acc 0.931839\n",
            "num of 1 and 0 in labels: tensor(3178) tensor(2889)\n",
            "num of 1 and 0 in labels: tensor(135) tensor(980)\n",
            "Epoch 12; Loss 0.311324; Train Acc 0.896489; Val Acc 0.943498\n",
            "num of 1 and 0 in labels: tensor(3178) tensor(2889)\n",
            "num of 1 and 0 in labels: tensor(135) tensor(980)\n",
            "Epoch 13; Loss 0.221453; Train Acc 0.914950; Val Acc 0.942601\n",
            "num of 1 and 0 in labels: tensor(3178) tensor(2889)\n",
            "num of 1 and 0 in labels: tensor(135) tensor(980)\n",
            "Epoch 14; Loss 0.194549; Train Acc 0.919565; Val Acc 0.944395\n",
            "num of 1 and 0 in labels: tensor(3178) tensor(2889)\n",
            "num of 1 and 0 in labels: tensor(135) tensor(980)\n",
            "Epoch 15; Loss 0.176597; Train Acc 0.921872; Val Acc 0.946188\n"
          ]
        },
        {
          "data": {
            "image/png": "[encoded data removed]",
            "text/plain": [
              "<Figure size 432x288 with 1 Axes>"
            ]
          },
          "metadata": {
            "needs_background": "light"
          },
          "output_type": "display_data"
        },
        {
          "data": {
            "image/png": "[encoded data removed]",
            "text/plain": [
              "<Figure size 432x288 with 1 Axes>"
            ]
          },
          "metadata": {
            "needs_background": "light"
          },
          "output_type": "display_data"
        }
      ],
      "source": [
        "rnn1=RNN(len(text_field.vocab.itos),len(text_field.vocab.itos),2,rout='cat',activation='tanh')\n",
        "train_rnn_network(rnn1, train_1h, val_1h, num_epochs=15, learning_rate=2e-5)"
      ]
    },
    {
      "cell_type": "code",
      "execution_count": null,
      "metadata": {
        "colab": {
          "base_uri": "https://localhost:8080/",
          "height": 729
        },
        "id": "MRnWbbuyNQp0",
        "outputId": "7989bcc4-a7f0-4396-f7db-a2d333743910"
      },
      "outputs": [
        {
          "name": "stdout",
          "output_type": "stream",
          "text": [
            "num of 1 and 0 in labels: tensor(3178) tensor(2889)\n",
            "num of 1 and 0 in labels: tensor(135) tensor(980)\n",
            "Epoch 1; Loss 0.162140; Train Acc 0.939344; Val Acc 0.951570\n",
            "num of 1 and 0 in labels: tensor(3178) tensor(2889)\n",
            "num of 1 and 0 in labels: tensor(135) tensor(980)\n",
            "Epoch 2; Loss 0.140238; Train Acc 0.939838; Val Acc 0.951570\n",
            "num of 1 and 0 in labels: tensor(3178) tensor(2889)\n",
            "num of 1 and 0 in labels: tensor(135) tensor(980)\n",
            "Epoch 3; Loss 0.127471; Train Acc 0.943794; Val Acc 0.949776\n"
          ]
        },
        {
          "data": {
            "image/png": "[encoded data removed]",
            "text/plain": [
              "<Figure size 432x288 with 1 Axes>"
            ]
          },
          "metadata": {
            "needs_background": "light"
          },
          "output_type": "display_data"
        },
        {
          "data": {
            "image/png": "[encoded data removed]",
            "text/plain": [
              "<Figure size 432x288 with 1 Axes>"
            ]
          },
          "metadata": {
            "needs_background": "light"
          },
          "output_type": "display_data"
        }
      ],
      "source": [
        "train_rnn_network(rnn1, train_1h, val_1h, num_epochs=3, learning_rate=2e-5)"
      ]
    },
    {
      "cell_type": "code",
      "execution_count": null,
      "metadata": {
        "id": "7ggbQSdba91J"
      },
      "outputs": [],
      "source": [
        "# Create a Dataset of only spam validation examples\n",
        "valid_spam = data.Dataset(\n",
        "    [e for e in val.examples if e.label == 1],\n",
        "    val.fields)\n",
        "# Create a Dataset of only non-spam validation examples\n",
        "valid_nospam = data.Dataset(\n",
        "    [e for e in val.examples if e.label == 0],\n",
        "    val.fields) "
      ]
    },
    {
      "cell_type": "code",
      "execution_count": null,
      "metadata": {
        "id": "QSyQBcNQYYDH"
      },
      "outputs": [],
      "source": [
        "val_spam_iter = data.BucketIterator(valid_spam,\n",
        "                                           batch_size=32,\n",
        "                                           sort_key=lambda x: len(x.sms), # to minimize padding\n",
        "                                           sort_within_batch=True,        # sort within each batch\n",
        "                                           repeat=False)                  # repeat the iterator for many epochs\n",
        "val_nospam_iter = data.BucketIterator(valid_nospam,\n",
        "                                           batch_size=32,\n",
        "                                           sort_key=lambda x: len(x.sms), # to minimize padding\n",
        "                                           sort_within_batch=True,        # sort within each batch\n",
        "                                           repeat=False)                  # repeat the iterator for many epochs\n",
        "\n",
        "val_spam1h=idxiter21hot(val_spam_iter)\n",
        "val_nospam1h=idxiter21hot(val_nospam_iter)"
      ]
    },
    {
      "cell_type": "code",
      "execution_count": null,
      "metadata": {
        "colab": {
          "base_uri": "https://localhost:8080/"
        },
        "id": "Un4rTY5D_E6Q",
        "outputId": "7354abc9-90e5-4387-e965-4598dd190130"
      },
      "outputs": [
        {
          "name": "stdout",
          "output_type": "stream",
          "text": [
            "num of 1 and 0 in labels: tensor(0) tensor(980)\n",
            "num of 1 and 0 in labels: tensor(135) tensor(0)\n",
            "false positive rate: 0.055102040816326525\n",
            "false negative rate: 0.0444444444444444\n"
          ]
        }
      ],
      "source": [
        "fpr=1-get_accuracy(rnn1, val_nospam1h)\n",
        "fnr=1-get_accuracy(rnn1, val_spam1h)\n",
        "print('false positive rate:',fpr)\n",
        "print('false negative rate:',fnr)"
      ]
    },
    {
      "cell_type": "markdown",
      "metadata": {
        "id": "IMkAPJTIaxdA"
      },
      "source": [
        "The impact of a false positive is classifying a useful message as a spam. This will possibly make important messages ignored by the user. The impact of a false negative is classifying a spam as something useful. This will be annoying, and could possibly lead to economic losses of the user if the spam message is a fraud."
      ]
    },
    {
      "cell_type": "code",
      "execution_count": null,
      "metadata": {
        "colab": {
          "base_uri": "https://localhost:8080/"
        },
        "id": "D5L5D-A1a91W",
        "outputId": "4cadddc6-dd07-450b-f193-dccc3c250c0e"
      },
      "outputs": [
        {
          "name": "stdout",
          "output_type": "stream",
          "text": [
            "num of 1 and 0 in labels: tensor(158) tensor(956)\n",
            "test accuracy: 0.9488330341113106\n"
          ]
        }
      ],
      "source": [
        "test_iter = data.BucketIterator(test,\n",
        "                                batch_size=32,\n",
        "                                sort_key=lambda x: len(x.sms), # to minimize padding\n",
        "                                sort_within_batch=True,        # sort within each batch\n",
        "                                repeat=False)\n",
        "test_1h=idxiter21hot(test_iter)\n",
        "test_acc=get_accuracy(rnn1, test_1h)\n",
        "print('test accuracy:',test_acc)"
      ]
    },
    {
      "cell_type": "markdown",
      "metadata": {
        "id": "Dom9ilxl9FID"
      },
      "source": [
        "The final test accuracy is 0.949."
      ]
    },
    {
      "cell_type": "markdown",
      "metadata": {
        "id": "6Hjmd8rca91Y"
      },
      "source": [
        "Evaluating false positive rate and false negative rate of the model across the test set"
      ]
    },
    {
      "cell_type": "code",
      "execution_count": null,
      "metadata": {
        "colab": {
          "base_uri": "https://localhost:8080/"
        },
        "id": "GFiAKztJa91Z",
        "outputId": "c68b7d60-6fc5-489b-fa1e-d8e0def21ec3"
      },
      "outputs": [
        {
          "name": "stdout",
          "output_type": "stream",
          "text": [
            "num of 1 and 0 in labels: tensor(0) tensor(956)\n",
            "num of 1 and 0 in labels: tensor(158) tensor(0)\n",
            "false positive rate: 0.05125523012552302\n",
            "false negative rate: 0.06329113924050633\n"
          ]
        }
      ],
      "source": [
        "test_spam = data.Dataset(\n",
        "    [e for e in test.examples if e.label == 1],\n",
        "    test.fields)\n",
        "test_nospam = data.Dataset(\n",
        "    [e for e in test.examples if e.label == 0],\n",
        "    test.fields)\n",
        "test_spam_iter = data.BucketIterator(test_spam,\n",
        "                                           batch_size=32,\n",
        "                                           sort_key=lambda x: len(x.sms), # to minimize padding\n",
        "                                           sort_within_batch=True,        # sort within each batch\n",
        "                                           repeat=False)                  # repeat the iterator for many epochs\n",
        "test_nospam_iter = data.BucketIterator(test_nospam,\n",
        "                                           batch_size=32,\n",
        "                                           sort_key=lambda x: len(x.sms), # to minimize padding\n",
        "                                           sort_within_batch=True,        # sort within each batch\n",
        "                                           repeat=False)                  # repeat the iterator for many epochs\n",
        "\n",
        "test_spam1h=idxiter21hot(test_spam_iter)\n",
        "test_nospam1h=idxiter21hot(test_nospam_iter)\n",
        "fpr_test=1-get_accuracy(rnn1, test_nospam1h)\n",
        "fnr_test=1-get_accuracy(rnn1, test_spam1h)\n",
        "print('false positive rate:',fpr_test)\n",
        "print('false negative rate:',fnr_test)"
      ]
    },
    {
      "cell_type": "markdown",
      "metadata": {
        "id": "0jGHtQFpa91b"
      },
      "source": [
        "Evaluate the model's prediction of the probability that\n",
        "the SMS message \"machine learning is sooo cool!\" is spam"
      ]
    },
    {
      "cell_type": "code",
      "execution_count": null,
      "metadata": {
        "id": "h_2nSJq8a91b"
      },
      "outputs": [],
      "source": [
        "msg = \"machine learning is sooo cool!\""
      ]
    },
    {
      "cell_type": "code",
      "execution_count": null,
      "metadata": {
        "colab": {
          "base_uri": "https://localhost:8080/"
        },
        "id": "ED14w14EfByE",
        "outputId": "14280500-24cf-47bb-d1ec-d2f927f9a043"
      },
      "outputs": [
        {
          "name": "stdout",
          "output_type": "stream",
          "text": [
            "tensor([[ 0.7992, -0.5443]], grad_fn=<AddmmBackward0>)\n"
          ]
        }
      ],
      "source": [
        "charints=[]\n",
        "for c in msg:\n",
        "  charints.append(text_field.vocab.stoi[c])\n",
        "ident = torch.eye(len(text_field.vocab.itos))\n",
        "char1hots=ident[torch.tensor(charints)].unsqueeze(0)\n",
        "msgset=[[char1hots,torch.tensor([1])],]\n",
        "msgset[0]\n",
        "pred=rnn1(char1hots)\n",
        "print(pred)"
      ]
    },
    {
      "cell_type": "code",
      "execution_count": null,
      "metadata": {
        "colab": {
          "base_uri": "https://localhost:8080/"
        },
        "id": "9GMkrBDlm_Nq",
        "outputId": "00583bab-393f-4069-c3ba-466db8d81c04"
      },
      "outputs": [
        {
          "data": {
            "text/plain": [
              "0.20209321921149495"
            ]
          },
          "execution_count": 6,
          "metadata": {},
          "output_type": "execute_result"
        }
      ],
      "source": [
        "#get_accuracy(rnn1, msgset)\n",
        "pred=pred[0].squeeze()\n",
        "probspam=((pred[1]+1)/(pred[1]+pred[0]+2)) #add 1 to each output to correct for the tanh function, otherwise will get negative probability\n",
        "probspam"
      ]
    },
    {
      "cell_type": "markdown",
      "metadata": {
        "id": "AEyEcHh2S7a_"
      },
      "source": [
        "The probability for this message to be spam is 0.2021, which is fairly low."
      ]
    }
  ],
  "metadata": {
    "colab": {
      "provenance": []
    },
    "kernelspec": {
      "display_name": "Python 3 (ipykernel)",
      "language": "python",
      "name": "python3"
    },
    "language_info": {
      "codemirror_mode": {
        "name": "ipython",
        "version": 3
      },
      "file_extension": ".py",
      "mimetype": "text/x-python",
      "name": "python",
      "nbconvert_exporter": "python",
      "pygments_lexer": "ipython3",
      "version": "3.8.12"
    }
  },
  "nbformat": 4,
  "nbformat_minor": 0
}